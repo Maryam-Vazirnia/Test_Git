{
 "cells": [
  {
   "cell_type": "code",
   "execution_count": null,
   "id": "368a97b1-c911-4fab-b062-7e1d096ffbb4",
   "metadata": {},
   "outputs": [],
   "source": []
  }
 ],
 "metadata": {
  "kernelspec": {
   "display_name": "",
   "name": ""
  },
  "language_info": {
   "name": ""
  }
 },
 "nbformat": 4,
 "nbformat_minor": 5
}
