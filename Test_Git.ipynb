{
 "cells": [
  {
   "cell_type": "markdown",
   "id": "b04468ae-dc68-4ae0-b5f1-444b10fb9138",
   "metadata": {},
   "source": [
    "# First Test in Git"
   ]
  },
  {
   "cell_type": "code",
   "execution_count": 1,
   "id": "80fceb96-5357-460a-8a96-333d7a3c357b",
   "metadata": {},
   "outputs": [
    {
     "name": "stdout",
     "output_type": "stream",
     "text": [
      "I am trying to work by Git\n"
     ]
    }
   ],
   "source": [
    "print(\"I am trying to work by Git\")"
   ]
  },
  {
   "cell_type": "code",
   "execution_count": null,
   "id": "d0248555-1a4a-43b8-9ef2-fd66bfb6e8fd",
   "metadata": {},
   "outputs": [],
   "source": []
  }
 ],
 "metadata": {
  "kernelspec": {
   "display_name": "Python 3 (ipykernel)",
   "language": "python",
   "name": "python3"
  },
  "language_info": {
   "codemirror_mode": {
    "name": "ipython",
    "version": 3
   },
   "file_extension": ".py",
   "mimetype": "text/x-python",
   "name": "python",
   "nbconvert_exporter": "python",
   "pygments_lexer": "ipython3",
   "version": "3.10.12"
  }
 },
 "nbformat": 4,
 "nbformat_minor": 5
}
